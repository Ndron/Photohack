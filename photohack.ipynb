{
 "cells": [
  {
   "cell_type": "code",
   "execution_count": 1,
   "metadata": {},
   "outputs": [],
   "source": [
    "import requests\n",
    "import logging\n",
    "import json\n",
    "\n",
    "logging.basicConfig(level=logging.ERROR, format='%(asctime)s - %(filename)s:%(lineno)d - %(message)s')"
   ]
  },
  {
   "cell_type": "code",
   "execution_count": 2,
   "metadata": {},
   "outputs": [],
   "source": [
    "class ClientPhotolab(object):\n",
    "\n",
    "    api_endpoint = 'http://api-soft.photolab.me'\n",
    "    api_upload_endpoint = 'http://upload-soft.photolab.me/upload.php?no_resize=1'\n",
    "    api_endpoint_proxy = 'http://api-proxy-soft.photolab.me'\n",
    "\n",
    "    def image_upload(self, image):\n",
    "        image_blob = None\n",
    "        if type(image) is str:\n",
    "            image_blob = open(image, 'rb')\n",
    "        elif type(image) is file:\n",
    "            image_blob = file\n",
    "        else:\n",
    "            raise Exception('image not file and not filename')\n",
    "\n",
    "        files = {'file1': image_blob}\n",
    "        response = requests.post(self.api_upload_endpoint, files=files)\n",
    "        resp_body = response.text\n",
    "        logging.info('response: {}'.format(resp_body))\n",
    "        return resp_body\n",
    "\n",
    "    def template_upload(self, resources):\n",
    "        resources_blob = None\n",
    "        if type(resources) is str:\n",
    "            resources_blob = open(resources, 'rb')\n",
    "        elif type(resources) is file:\n",
    "            resources_blob = file\n",
    "        else:\n",
    "            raise Exception('resources not file and not filename')\n",
    "\n",
    "        files = {'resources': resources_blob}\n",
    "        endpoint = '{}/template_upload.php'.format(self.api_endpoint_proxy)\n",
    "        response = requests.post(endpoint, files=files)\n",
    "        resp_body = response.text\n",
    "        logging.info('response: {}'.format(resp_body))\n",
    "        return resp_body\n",
    "\n",
    "    def template_process(self, template_name, contents):\n",
    "        form = {\n",
    "            'template_name' : template_name\n",
    "        }\n",
    "        for i in range(0, len(contents)):\n",
    "            content = contents[i]\n",
    "            form['image_url[' + str(i+1) + ']'] = content['url']\n",
    "            if 'crop' in content:\n",
    "                form['crop[' + str(i+1) + ']'] = content['crop']\n",
    "            if 'flip' in content:\n",
    "                form['flip[' + str(i+1) + ']'] = content['flip']\n",
    "            if 'rotate' in content:\n",
    "                form['rotate[' + str(i+1) + ']'] = content['rotate']\n",
    "\n",
    "\n",
    "        endpoint = '{}/template_process.php'.format(self.api_endpoint)\n",
    "        return self._query(endpoint, data=form)\n",
    "\n",
    "    def photolab_process(self, template_name, contents):\n",
    "        form = {\n",
    "            'template_name' : template_name\n",
    "        }\n",
    "        for i in range(0, len(contents)):\n",
    "            content = contents[i]\n",
    "            form['image_url[' + str(i+1) + ']'] = content['url']\n",
    "            if 'crop' in content:\n",
    "                form['crop[' + str(i+1) + ']'] = content['crop']\n",
    "            if 'flip' in content:\n",
    "                form['flip[' + str(i+1) + ']'] = content['flip']\n",
    "            if 'rotate' in content:\n",
    "                form['rotate[' + str(i+1) + ']'] = content['rotate']\n",
    "\n",
    "        endpoint = '{}/template_process.php'.format(self.api_endpoint)\n",
    "        return self._query(endpoint, data=form)\n",
    "\n",
    "    def photolab_steps(self, combo_id):\n",
    "        form = {\n",
    "            'combo_id' : combo_id\n",
    "        }\n",
    "        endpoint = '{}/photolab_steps.php'.format(self.api_endpoint)\n",
    "        return json.loads(self._query(endpoint, data=form))\n",
    "\n",
    "    def photolab_steps_advanced(self, combo_id):\n",
    "        form = {\n",
    "            'combo_id' : combo_id\n",
    "        }\n",
    "        endpoint = '{}/photolab_steps_advanced.php'.format(self.api_endpoint)\n",
    "        return json.loads(self._query(endpoint, data=form))\n",
    "\n",
    "    def download_file(self, endpoint, dst):\n",
    "        response = requests.get(endpoint)\n",
    "        if response.status_code == 200:\n",
    "            try:\n",
    "                f = open(dst, 'wb')\n",
    "            except IOError as e:\n",
    "                raise e\n",
    "            else:\n",
    "                with f:\n",
    "                    f.write(response.content)\n",
    "                    f.close()\n",
    "        else:\n",
    "            raise Exception('_query: {}, status_code: {}'.format(endpoint, response.status_code))\n",
    "\n",
    "    def _query(self, endpoint, data=None, files=None):\n",
    "        response = requests.post(endpoint, data=data, files=files)\n",
    "        resp_body = response.text\n",
    "        logging.info('response: {}'.format(resp_body))\n",
    "        if response.status_code != 200:\n",
    "            raise Exception('_query: {}, error: {}'.format(endpoint, resp_body))\n",
    "\n",
    "        return resp_body\n"
   ]
  },
  {
   "cell_type": "code",
   "execution_count": 3,
   "metadata": {},
   "outputs": [],
   "source": [
    "api = ClientPhotolab()\n",
    "\n",
    "resourses_filename = 'puff.zip'"
   ]
  },
  {
   "cell_type": "code",
   "execution_count": 4,
   "metadata": {},
   "outputs": [
    {
     "name": "stdout",
     "output_type": "stream",
     "text": [
      "template_name: 1001545\n"
     ]
    }
   ],
   "source": [
    "template_name = api.template_upload(resourses_filename)\n",
    "print('template_name: {}'.format(template_name))"
   ]
  },
  {
   "cell_type": "code",
   "execution_count": 14,
   "metadata": {},
   "outputs": [],
   "source": [
    "content_filename1,content_filename2 = 'an1.jpg','an2.jpg'"
   ]
  },
  {
   "cell_type": "code",
   "execution_count": 11,
   "metadata": {},
   "outputs": [],
   "source": [
    "#[{'url':'http://'}, {'url':'http://}]"
   ]
  },
  {
   "cell_type": "code",
   "execution_count": 15,
   "metadata": {},
   "outputs": [
    {
     "name": "stdout",
     "output_type": "stream",
     "text": [
      "content_url: ['http://temp-images.ws.pho.to/8b23c359422aeae378c8cc0052454476155a0870.jpeg', 'http://temp-images.ws.pho.to/f12ff4bc9757faf9b32d93fc60c94fa374f278a6.jpeg']\n"
     ]
    }
   ],
   "source": [
    "content_url1 = api.image_upload(content_filename1)\n",
    "content_url2 = api.image_upload(content_filename2)\n",
    "print('content_url: {}'.format([content_url1,content_url2]))"
   ]
  },
  {
   "cell_type": "code",
   "execution_count": 20,
   "metadata": {},
   "outputs": [
    {
     "name": "stdout",
     "output_type": "stream",
     "text": [
      "for template_name: 1001545, result_url: http://worker-images.ws.pho.to/i1/504B23CA-95AA-11E9-9891-0A6A29550404.jpg\n"
     ]
    }
   ],
   "source": [
    "result_url = api.template_process(template_name,  [{'url':'http://temp-images.ws.pho.to/8b23c359422aeae378c8cc0052454476155a0870.jpeg'}, {'url':'http://temp-images.ws.pho.to/f12ff4bc9757faf9b32d93fc60c94fa374f278a6.jpeg'}]\n",
    ")\n",
    "print('for template_name: {}, result_url: {}'.format(template_name, result_url))"
   ]
  },
  {
   "cell_type": "code",
   "execution_count": null,
   "metadata": {},
   "outputs": [],
   "source": []
  }
 ],
 "metadata": {
  "kernelspec": {
   "display_name": "Python 3",
   "language": "python",
   "name": "python3"
  },
  "language_info": {
   "codemirror_mode": {
    "name": "ipython",
    "version": 3
   },
   "file_extension": ".py",
   "mimetype": "text/x-python",
   "name": "python",
   "nbconvert_exporter": "python",
   "pygments_lexer": "ipython3",
   "version": "3.6.5"
  }
 },
 "nbformat": 4,
 "nbformat_minor": 2
}
