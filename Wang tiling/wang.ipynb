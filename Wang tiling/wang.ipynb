{
 "cells": [
  {
   "cell_type": "code",
   "execution_count": 23,
   "metadata": {},
   "outputs": [
    {
     "name": "stdout",
     "output_type": "stream",
     "text": [
      "1.0\n",
      "169\n",
      "169\n",
      "169\n",
      "169\n",
      "169\n",
      "169\n",
      "169\n",
      "169\n",
      "169\n",
      "169\n",
      "169\n",
      "169\n",
      "169\n",
      "169\n",
      "169\n",
      "169\n",
      "169\n",
      "169\n",
      "169\n",
      "169\n",
      "169\n",
      "169\n",
      "169\n",
      "169\n",
      "169\n",
      "169\n",
      "169\n",
      "169\n",
      "169\n",
      "169\n",
      "169\n",
      "169\n"
     ]
    },
    {
     "name": "stderr",
     "output_type": "stream",
     "text": [
      "\n",
      "  0%|          | 0/4 [00:00<?, ?it/s]\n",
      "100%|##########| 4/4 [00:00<?, ?it/s]\n",
      "\n",
      "  0%|          | 0/4 [00:00<?, ?it/s]\n",
      "100%|##########| 4/4 [00:00<?, ?it/s]\n",
      "Traceback (most recent call last):\n",
      "  File \"wang_tilings.py\", line 441, in <module>\n",
      "    Image.open('wang_alporas/alporas_'+str(i+1)+'.jpg').convert('RGB').save('wang_alporas/alporas_'+str(i+1)+'.jpg')\n",
      "  File \"C:\\ProgramData\\Anaconda3\\lib\\site-packages\\PIL\\Image.py\", line 2548, in open\n",
      "    fp = builtins.open(filename, \"rb\")\n",
      "FileNotFoundError: [Errno 2] No such file or directory: 'wang_alporas/alporas_2.jpg'\n"
     ]
    }
   ],
   "source": [
    "!python wang_tilings.py an1.jpg 640 640 --to_enrich TO_ENRICH"
   ]
  },
  {
   "cell_type": "code",
   "execution_count": 6,
   "metadata": {},
   "outputs": [],
   "source": [
    "from PIL import Image"
   ]
  },
  {
   "cell_type": "code",
   "execution_count": 10,
   "metadata": {},
   "outputs": [],
   "source": [
    "def flip_image(image_path):\n",
    "    \"\"\"\n",
    "    Flip or mirror the image\n",
    " \n",
    "    @param image_path: The path to the image to edit\n",
    "    @param saved_location: Path to save the cropped image\n",
    "    \"\"\"\n",
    "    image_obj = Image.open(image_path)\n",
    "    rotated_image = image_obj.transpose(Image.FLIP_LEFT_RIGHT)\n",
    "    \n",
    "    rotated_image.show()"
   ]
  },
  {
   "cell_type": "code",
   "execution_count": 11,
   "metadata": {},
   "outputs": [],
   "source": [
    "image = 'an1.jpg'\n",
    "flip_image(image)"
   ]
  },
  {
   "cell_type": "code",
   "execution_count": null,
   "metadata": {},
   "outputs": [],
   "source": []
  }
 ],
 "metadata": {
  "kernelspec": {
   "display_name": "Python 3",
   "language": "python",
   "name": "python3"
  },
  "language_info": {
   "codemirror_mode": {
    "name": "ipython",
    "version": 3
   },
   "file_extension": ".py",
   "mimetype": "text/x-python",
   "name": "python",
   "nbconvert_exporter": "python",
   "pygments_lexer": "ipython3",
   "version": "3.6.5"
  }
 },
 "nbformat": 4,
 "nbformat_minor": 2
}
